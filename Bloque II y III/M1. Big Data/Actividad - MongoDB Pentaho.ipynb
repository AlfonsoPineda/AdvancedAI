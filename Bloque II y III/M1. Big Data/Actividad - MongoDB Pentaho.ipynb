{
 "cells": [
  {
   "cell_type": "markdown",
   "metadata": {},
   "source": [
    "# Actividad: MongoDB Pentaho\n",
    "\n",
    "> Alfonso Pineda | A01660394  \n",
    "Mariana Rincón | A01654973  \n",
    "Karla González | A01541526  \n",
    "Salvador Mendoza | A01067783  \n",
    "Álvaro Morán | A01638034\n",
    "\n",
    "---"
   ]
  },
  {
   "cell_type": "markdown",
   "metadata": {},
   "source": [
    "En virtud de la naturaleza de la actividad y teniendo en cuenta que el Software Pentaho está diseñado exclusivamente para procesadores Intel, se ha encontrado una limitación significativa. Todos los miembros del equipo poseen procesadores M2 de Apple, lo cual imposibilita la ejecución exitosa de la actividad planificada. Esta incompatibilidad de hardware ha obstaculizado la consecución de los objetivos propuestos en la presente tarea.\n",
    "\n",
    "\n",
    "Ante esta situación, la solución propuesta por el profesor ha sido la entrega del presente escrito como una medida alternativa que permita evidenciar la comprensión y análisis de la problemática."
   ]
  }
 ],
 "metadata": {
  "language_info": {
   "name": "python"
  }
 },
 "nbformat": 4,
 "nbformat_minor": 2
}
