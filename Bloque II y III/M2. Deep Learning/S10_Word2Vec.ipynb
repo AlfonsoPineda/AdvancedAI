{
 "cells": [
  {
   "cell_type": "markdown",
   "metadata": {},
   "source": [
    "# Sesión 10: Word2Vec\n",
    "\n",
    "---\n",
    "\n",
    "Viernes 27 de Octubre de 2023"
   ]
  },
  {
   "cell_type": "markdown",
   "metadata": {},
   "source": [
    "## Funcionamiento interno de convertir palabras a vectores utilizando skip-gram's"
   ]
  },
  {
   "cell_type": "code",
   "execution_count": 1,
   "metadata": {},
   "outputs": [],
   "source": [
    "import io\n",
    "import re\n",
    "import string\n",
    "import tqdm # for progress bar\n",
    "\n",
    "import numpy as np\n",
    "import tensorflow as tf\n",
    "import tensorflow.keras as keras"
   ]
  },
  {
   "cell_type": "code",
   "execution_count": 3,
   "metadata": {},
   "outputs": [],
   "source": [
    "SEED = 42   # Declaramos una semilla para que los resultados sean reproducibles\n",
    "AUTOTUNE = tf.data.AUTOTUNE # AUTOTUNE nos permite que TensorFlow seleccione automáticamente el número de hilos de procesamiento que se utilizarán para ejecutar la operación"
   ]
  },
  {
   "cell_type": "markdown",
   "metadata": {},
   "source": [
    "### Tokenización"
   ]
  },
  {
   "cell_type": "code",
   "execution_count": 5,
   "metadata": {},
   "outputs": [
    {
     "name": "stdout",
     "output_type": "stream",
     "text": [
      "8 ['the', 'wide', 'road', 'shimmered', 'in', 'the', 'hot', 'sun']\n"
     ]
    }
   ],
   "source": [
    "sentence = \"The wide road shimmered in the hot sun\"\n",
    "tokens = list(sentence.lower().split()) # Convertimos la frase en una lista de tokens\n",
    "print(len(tokens), tokens)"
   ]
  },
  {
   "cell_type": "code",
   "execution_count": 7,
   "metadata": {},
   "outputs": [
    {
     "name": "stdout",
     "output_type": "stream",
     "text": [
      "{'pad': 0, 'the': 1, 'wide': 2, 'road': 3, 'shimmered': 4, 'in': 5, 'hot': 6, 'sun': 7}\n"
     ]
    }
   ],
   "source": [
    "# Creamos un diccionario de vocabulario\n",
    "vocab, index = {}, 1 # Inicializamos el índice en 1 en lugar de 0\n",
    "vocab['pad'] = 0 # Agregamos el token de relleno (padding)\n",
    "\n",
    "for token in tokens:\n",
    "  if token not in vocab:\n",
    "    vocab[token] = index\n",
    "    index += 1\n",
    "\n",
    "vocab_size = len(vocab)\n",
    "print(vocab)"
   ]
  },
  {
   "cell_type": "code",
   "execution_count": 8,
   "metadata": {},
   "outputs": [
    {
     "name": "stdout",
     "output_type": "stream",
     "text": [
      "{0: 'pad', 1: 'the', 2: 'wide', 3: 'road', 4: 'shimmered', 5: 'in', 6: 'hot', 7: 'sun'}\n"
     ]
    }
   ],
   "source": [
    "# Creamos un diccionario inverso, que nos permitirá convertir los índices en palabras\n",
    "inverse_vocab = {index: token for token, index in vocab.items()}\n",
    "print(inverse_vocab)"
   ]
  },
  {
   "cell_type": "code",
   "execution_count": 9,
   "metadata": {},
   "outputs": [
    {
     "name": "stdout",
     "output_type": "stream",
     "text": [
      "[1, 2, 3, 4, 5, 1, 6, 7]\n"
     ]
    }
   ],
   "source": [
    "# Reconstruimos la frase a partir de los índices (para comprobar que todo funciona correctamente)\n",
    "example_sequence = [vocab[word] for word in tokens]\n",
    "print(example_sequence) # Oración convertida en una secuencia de índices"
   ]
  },
  {
   "cell_type": "markdown",
   "metadata": {},
   "source": [
    "### Generación de skip-grams"
   ]
  },
  {
   "cell_type": "code",
   "execution_count": 10,
   "metadata": {},
   "outputs": [
    {
     "name": "stdout",
     "output_type": "stream",
     "text": [
      "26\n",
      "(6, 7): (hot, sun)\n",
      "(7, 6): (sun, hot)\n",
      "(3, 1): (road, the)\n",
      "(1, 3): (the, road)\n",
      "(1, 5): (the, in)\n"
     ]
    }
   ],
   "source": [
    "window_size = 2\n",
    "positive_skip_grams, _ = tf.keras.preprocessing.sequence.skipgrams(\n",
    "      example_sequence, \n",
    "      vocabulary_size=vocab_size,\n",
    "      window_size=window_size,\n",
    "      negative_samples=0) # negative_samples=0 significa que no se muestrean ejemplos negativos\n",
    "\n",
    "print(len(positive_skip_grams))\n",
    "\n",
    "for target, context in positive_skip_grams[:5]:\n",
    "  print(f\"({target}, {context}): ({inverse_vocab[target]}, {inverse_vocab[context]})\")"
   ]
  },
  {
   "cell_type": "markdown",
   "metadata": {},
   "source": [
    "### Generar muestras negativas"
   ]
  },
  {
   "cell_type": "code",
   "execution_count": 13,
   "metadata": {},
   "outputs": [
    {
     "name": "stdout",
     "output_type": "stream",
     "text": [
      "tf.Tensor([3 6 0 1], shape=(4,), dtype=int64)\n",
      "['road', 'hot', 'pad', 'the']\n"
     ]
    }
   ],
   "source": [
    "target_word, context_word = positive_skip_grams[0]\n",
    "num_ns = 4 # Número de muestras negativas por cada ejemplo positivo\n",
    "\n",
    "context_class = tf.reshape(tf.constant(context_word, dtype=\"int64\"), (1, 1))\n",
    "\n",
    "negative_sampling_candidates, _, _ = tf.random.log_uniform_candidate_sampler(\n",
    "    true_classes = context_class, # clase positiva\n",
    "    num_true = 1, # número de clases positivas\n",
    "    num_sampled = num_ns, # número de muestras negativas\n",
    "    unique = True, # todas las muestras negativas deben ser únicas\n",
    "    range_max = vocab_size, # rango de valores enteros\n",
    "    seed = SEED, # semilla para reproducibilidad\n",
    "    name = \"negative_sampling\" # nombre de la operación\n",
    ")\n",
    "\n",
    "print(negative_sampling_candidates)\n",
    "print([inverse_vocab[index.numpy()] for index in negative_sampling_candidates])"
   ]
  },
  {
   "cell_type": "markdown",
   "metadata": {},
   "source": [
    "Funcionamiento interno de la tokenización y generación de muestras negativas"
   ]
  },
  {
   "cell_type": "code",
   "execution_count": 14,
   "metadata": {},
   "outputs": [
    {
     "name": "stdout",
     "output_type": "stream",
     "text": [
      "target_index    : 6\n",
      "target_word     : hot\n",
      "context_indices : [7 3 6 0 1]\n",
      "context_words   : ['sun', 'road', 'hot', 'pad', 'the']\n",
      "label           : [1 0 0 0 0]\n"
     ]
    }
   ],
   "source": [
    "# Concatenación de muestras positivas y negativas\n",
    "\n",
    "squeezed_context_class = tf.squeeze(context_class, 1) # Eliminamos las dimensiones de tamaño 1 de la forma de un tensor\n",
    "context = tf.concat([squeezed_context_class, negative_sampling_candidates], 0) # Concatenamos las muestras positivas y negativas\n",
    "label = tf.constant([1] + [0]*num_ns, dtype=\"int64\") # Creamos las etiquetas correspondientes\n",
    "target = target_word # Definimos el objetivo\n",
    "\n",
    "print(f\"target_index    : {target}\") # Índice de la palabra objetivo\n",
    "print(f\"target_word     : {inverse_vocab[target_word]}\") # Palabra objetivo\n",
    "print(f\"context_indices : {context}\") # Índices de las palabras del contexto\n",
    "print(f\"context_words   : {[inverse_vocab[c.numpy()] for c in context]}\") # Palabras del contexto\n",
    "print(f\"label           : {label}\") # Etiqueta"
   ]
  },
  {
   "cell_type": "markdown",
   "metadata": {},
   "source": [
    "---\n",
    "\n",
    "## Implementación de la red neuronal Word2Vec\n",
    "\n",
    "### Generación de datos de entrenamiento"
   ]
  },
  {
   "cell_type": "code",
   "execution_count": null,
   "metadata": {},
   "outputs": [],
   "source": [
    "def generate_training_data(sequences, window_size, num_ns, vocab_size, seed):\n",
    "  targets, contexts, labels = [], [], []\n",
    "\n",
    "  sampling_table = tf.keras.preprocessing.sequence.make_sampling_table(vocab_size) # Creamos una tabla de muestreo para muestrear palabras del vocabulario\n",
    "\n",
    "  for sequence in tqdm.tqdm(sequences): # Iteramos sobre las secuencias\n",
    "\n",
    "    # Generación de skip-grams positivos\n",
    "    positive_skip_grams, _ = tf.keras.preprocessing.sequence.skipgrams(\n",
    "        sequence, \n",
    "        vocabulary_size=vocab_size,\n",
    "        sampling_table=sampling_table,\n",
    "        window_size=window_size,\n",
    "        negative_samples=0)\n",
    "    \n",
    "    # Generación de muestras negativas\n",
    "    for target_word, context_word in positive_skip_grams:\n",
    "\n",
    "      context_class = tf.expand_dims(\n",
    "          tf.constant([context_word], dtype=\"int64\"), 1)\n",
    "      \n",
    "      negative_sampling_candidates, _, _ = tf.random.log_uniform_candidate_sampler(\n",
    "          true_classes=context_class,\n",
    "          num_true=1, \n",
    "          num_sampled=num_ns, \n",
    "          unique=True, \n",
    "          range_max=vocab_size, \n",
    "          seed=seed, \n",
    "          name=\"negative_sampling\")\n",
    "      \n",
    "      # Concatenaciones y etiquetas\n",
    "      context = tf.concat([context_class, negative_sampling_candidates], 0)\n",
    "      label = tf.constant([1] + [0]*num_ns, dtype=\"int64\")\n",
    "      \n",
    "\n",
    "\t\t\t# Añadimos los datos a las listas\n",
    "      targets.append(target_word)\n",
    "      contexts.append(context)\n",
    "      labels.append(label)\n",
    "      \n",
    "  return targets, contexts, labels"
   ]
  },
  {
   "cell_type": "markdown",
   "metadata": {},
   "source": [
    "### Descargar documento (Text Corpus)"
   ]
  },
  {
   "cell_type": "code",
   "execution_count": 23,
   "metadata": {},
   "outputs": [],
   "source": [
    "path_to_file = keras.utils.get_file('shakespeare.txt', 'https://storage.googleapis.com/download.tensorflow.org/data/shakespeare.txt')"
   ]
  },
  {
   "cell_type": "code",
   "execution_count": 24,
   "metadata": {},
   "outputs": [],
   "source": [
    "text_ds = tf.data.TextLineDataset(path_to_file).filter(lambda x: tf.cast(tf.strings.length(x), bool)) # Cargamos el dataset"
   ]
  },
  {
   "cell_type": "markdown",
   "metadata": {},
   "source": [
    "### Estandarización"
   ]
  },
  {
   "cell_type": "code",
   "execution_count": 33,
   "metadata": {},
   "outputs": [],
   "source": [
    "def custom_standardization(input_data): # Función para eliminar los signos de puntuación\n",
    "  lowercase = tf.strings.lower(input_data)\n",
    "  return tf.strings.regex_replace(lowercase,\n",
    "                                  '[%s]' % re.escape(string.punctuation), '')\n",
    "\n",
    "vocab_size = 4096\n",
    "sequence_length = 10"
   ]
  },
  {
   "cell_type": "code",
   "execution_count": 34,
   "metadata": {},
   "outputs": [],
   "source": [
    "vacab_size = 4096 # Tamaño del vocabulario\n",
    "sequence_length = 10 # Longitud de cada oración\n",
    "\n",
    "vectorize_layer = keras.layers.TextVectorization(\n",
    "    standardize=custom_standardization, # Función de estandarización\n",
    "    max_tokens=vocab_size, # Tamaño del vocabulario\n",
    "    output_mode='int', # Modo de salida\n",
    "    output_sequence_length=sequence_length) # Longitud de cada secuencia\n",
    "\n",
    "vectorize_layer.adapt(text_ds.batch(1024)) # Adaptamos el vectorizador al dataset"
   ]
  },
  {
   "cell_type": "code",
   "execution_count": 35,
   "metadata": {},
   "outputs": [
    {
     "name": "stdout",
     "output_type": "stream",
     "text": [
      "['', '[UNK]', 'the', 'and', 'to', 'i', 'of', 'you', 'my', 'a', 'that', 'in', 'is', 'not', 'for', 'with', 'me', 'it', 'be', 'your']\n"
     ]
    }
   ],
   "source": [
    "inverse_vocab = vectorize_layer.get_vocabulary() # Diccionario inverso\n",
    "print(inverse_vocab[:20])"
   ]
  },
  {
   "cell_type": "code",
   "execution_count": 36,
   "metadata": {},
   "outputs": [],
   "source": [
    "text_vector_ds = text_ds.batch(1024).prefetch(AUTOTUNE).map(vectorize_layer).unbatch() # Vectorizamos el dataset"
   ]
  },
  {
   "cell_type": "code",
   "execution_count": 37,
   "metadata": {},
   "outputs": [
    {
     "name": "stdout",
     "output_type": "stream",
     "text": [
      "32777\n",
      "[ 89 270   0   0   0   0   0   0   0   0] => ['first', 'citizen', '', '', '', '', '', '', '', '']\n",
      "[138  36 982 144 673 125  16 106   0   0] => ['before', 'we', 'proceed', 'any', 'further', 'hear', 'me', 'speak', '', '']\n",
      "[34  0  0  0  0  0  0  0  0  0] => ['all', '', '', '', '', '', '', '', '', '']\n",
      "[106 106   0   0   0   0   0   0   0   0] => ['speak', 'speak', '', '', '', '', '', '', '', '']\n",
      "[ 89 270   0   0   0   0   0   0   0   0] => ['first', 'citizen', '', '', '', '', '', '', '', '']\n"
     ]
    }
   ],
   "source": [
    "sequences = list(text_vector_ds.as_numpy_iterator()) # Convertimos el dataset en una lista de secuencias\n",
    "print(len(sequences))\n",
    "\n",
    "for seq in sequences[:5]:\n",
    "  print(f\"{seq} => {[inverse_vocab[i] for i in seq]}\")"
   ]
  }
 ],
 "metadata": {
  "kernelspec": {
   "display_name": "Python 3",
   "language": "python",
   "name": "python3"
  },
  "language_info": {
   "codemirror_mode": {
    "name": "ipython",
    "version": 3
   },
   "file_extension": ".py",
   "mimetype": "text/x-python",
   "name": "python",
   "nbconvert_exporter": "python",
   "pygments_lexer": "ipython3",
   "version": "3.9.6"
  }
 },
 "nbformat": 4,
 "nbformat_minor": 2
}
