{
  "nbformat": 4,
  "nbformat_minor": 0,
  "metadata": {
    "colab": {
      "provenance": []
    },
    "kernelspec": {
      "name": "python3",
      "display_name": "Python 3"
    },
    "language_info": {
      "name": "python"
    }
  },
  "cells": [
    {
      "cell_type": "markdown",
      "source": [
        "# Actividad: Estimación de Parámetros\n",
        "\n",
        "> Alfonso Pineda Cedillo | A01660394\n",
        "\n",
        "**Fecha de entrega:** 21 de Agosto de 2023\n",
        "\n",
        "---"
      ],
      "metadata": {
        "id": "4o9clIT5aCff"
      }
    },
    {
      "cell_type": "markdown",
      "source": [
        "## Problema 1\n",
        "Un fabricante de baterías electrónicas está interesado en la duración de las baterías antes de que necesiten ser reemplazadas. Para evaluar esto, el fabricante ha realizado un estudio en el que probó baterías en condiciones normales y registró el tiempo (en horas) hasta que cada batería se agotó. Descarga la base de datos que obtuvo, la podrás encontrar en canvas con el nombre de \"baterías\".\n",
        "\n",
        "Dada la muestra de datos proporcionada ¿Cuál es el valor esperado poblacional (esperanza matemática) de la vida útil de las baterías?\n",
        "\n",
        "Hint: Compara los histogramas de una normal y una exponencial. Identifica cuál de estos describe mejor los datos."
      ],
      "metadata": {
        "id": "zczysvbxaJaw"
      }
    },
    {
      "cell_type": "markdown",
      "source": [
        "### Solución\n",
        "Primero, importamos las librerías necesarias y el archivo XLSX correspondiente."
      ],
      "metadata": {
        "id": "UNUoEPkAaP4v"
      }
    },
    {
      "cell_type": "code",
      "execution_count": 7,
      "metadata": {
        "id": "L7syyOsYZ8k7"
      },
      "outputs": [],
      "source": [
        "import pandas as pd\n",
        "import numpy as np\n",
        "import matplotlib.pyplot as plt\n",
        "from scipy import stats\n",
        "\n",
        "df = pd.read_excel('baterias(1).xlsx')"
      ]
    },
    {
      "cell_type": "code",
      "source": [
        "df.head()"
      ],
      "metadata": {
        "colab": {
          "base_uri": "https://localhost:8080/",
          "height": 206
        },
        "id": "hAQZEoDAbZkU",
        "outputId": "d3fa6c7f-6de6-4ffd-95f3-2a0cc3872799"
      },
      "execution_count": 8,
      "outputs": [
        {
          "output_type": "execute_result",
          "data": {
            "text/plain": [
              "   numero_de_bateria  tiempo_hasta_agotar\n",
              "0                  1             0.156423\n",
              "1                  2             1.003374\n",
              "2                  3             0.438915\n",
              "3                  4             0.304314\n",
              "4                  5             0.056542"
            ],
            "text/html": [
              "\n",
              "  <div id=\"df-4232235d-4443-47b8-b551-192d35c7cab4\" class=\"colab-df-container\">\n",
              "    <div>\n",
              "<style scoped>\n",
              "    .dataframe tbody tr th:only-of-type {\n",
              "        vertical-align: middle;\n",
              "    }\n",
              "\n",
              "    .dataframe tbody tr th {\n",
              "        vertical-align: top;\n",
              "    }\n",
              "\n",
              "    .dataframe thead th {\n",
              "        text-align: right;\n",
              "    }\n",
              "</style>\n",
              "<table border=\"1\" class=\"dataframe\">\n",
              "  <thead>\n",
              "    <tr style=\"text-align: right;\">\n",
              "      <th></th>\n",
              "      <th>numero_de_bateria</th>\n",
              "      <th>tiempo_hasta_agotar</th>\n",
              "    </tr>\n",
              "  </thead>\n",
              "  <tbody>\n",
              "    <tr>\n",
              "      <th>0</th>\n",
              "      <td>1</td>\n",
              "      <td>0.156423</td>\n",
              "    </tr>\n",
              "    <tr>\n",
              "      <th>1</th>\n",
              "      <td>2</td>\n",
              "      <td>1.003374</td>\n",
              "    </tr>\n",
              "    <tr>\n",
              "      <th>2</th>\n",
              "      <td>3</td>\n",
              "      <td>0.438915</td>\n",
              "    </tr>\n",
              "    <tr>\n",
              "      <th>3</th>\n",
              "      <td>4</td>\n",
              "      <td>0.304314</td>\n",
              "    </tr>\n",
              "    <tr>\n",
              "      <th>4</th>\n",
              "      <td>5</td>\n",
              "      <td>0.056542</td>\n",
              "    </tr>\n",
              "  </tbody>\n",
              "</table>\n",
              "</div>\n",
              "    <div class=\"colab-df-buttons\">\n",
              "\n",
              "  <div class=\"colab-df-container\">\n",
              "    <button class=\"colab-df-convert\" onclick=\"convertToInteractive('df-4232235d-4443-47b8-b551-192d35c7cab4')\"\n",
              "            title=\"Convert this dataframe to an interactive table.\"\n",
              "            style=\"display:none;\">\n",
              "\n",
              "  <svg xmlns=\"http://www.w3.org/2000/svg\" height=\"24px\" viewBox=\"0 -960 960 960\">\n",
              "    <path d=\"M120-120v-720h720v720H120Zm60-500h600v-160H180v160Zm220 220h160v-160H400v160Zm0 220h160v-160H400v160ZM180-400h160v-160H180v160Zm440 0h160v-160H620v160ZM180-180h160v-160H180v160Zm440 0h160v-160H620v160Z\"/>\n",
              "  </svg>\n",
              "    </button>\n",
              "\n",
              "  <style>\n",
              "    .colab-df-container {\n",
              "      display:flex;\n",
              "      gap: 12px;\n",
              "    }\n",
              "\n",
              "    .colab-df-convert {\n",
              "      background-color: #E8F0FE;\n",
              "      border: none;\n",
              "      border-radius: 50%;\n",
              "      cursor: pointer;\n",
              "      display: none;\n",
              "      fill: #1967D2;\n",
              "      height: 32px;\n",
              "      padding: 0 0 0 0;\n",
              "      width: 32px;\n",
              "    }\n",
              "\n",
              "    .colab-df-convert:hover {\n",
              "      background-color: #E2EBFA;\n",
              "      box-shadow: 0px 1px 2px rgba(60, 64, 67, 0.3), 0px 1px 3px 1px rgba(60, 64, 67, 0.15);\n",
              "      fill: #174EA6;\n",
              "    }\n",
              "\n",
              "    .colab-df-buttons div {\n",
              "      margin-bottom: 4px;\n",
              "    }\n",
              "\n",
              "    [theme=dark] .colab-df-convert {\n",
              "      background-color: #3B4455;\n",
              "      fill: #D2E3FC;\n",
              "    }\n",
              "\n",
              "    [theme=dark] .colab-df-convert:hover {\n",
              "      background-color: #434B5C;\n",
              "      box-shadow: 0px 1px 3px 1px rgba(0, 0, 0, 0.15);\n",
              "      filter: drop-shadow(0px 1px 2px rgba(0, 0, 0, 0.3));\n",
              "      fill: #FFFFFF;\n",
              "    }\n",
              "  </style>\n",
              "\n",
              "    <script>\n",
              "      const buttonEl =\n",
              "        document.querySelector('#df-4232235d-4443-47b8-b551-192d35c7cab4 button.colab-df-convert');\n",
              "      buttonEl.style.display =\n",
              "        google.colab.kernel.accessAllowed ? 'block' : 'none';\n",
              "\n",
              "      async function convertToInteractive(key) {\n",
              "        const element = document.querySelector('#df-4232235d-4443-47b8-b551-192d35c7cab4');\n",
              "        const dataTable =\n",
              "          await google.colab.kernel.invokeFunction('convertToInteractive',\n",
              "                                                    [key], {});\n",
              "        if (!dataTable) return;\n",
              "\n",
              "        const docLinkHtml = 'Like what you see? Visit the ' +\n",
              "          '<a target=\"_blank\" href=https://colab.research.google.com/notebooks/data_table.ipynb>data table notebook</a>'\n",
              "          + ' to learn more about interactive tables.';\n",
              "        element.innerHTML = '';\n",
              "        dataTable['output_type'] = 'display_data';\n",
              "        await google.colab.output.renderOutput(dataTable, element);\n",
              "        const docLink = document.createElement('div');\n",
              "        docLink.innerHTML = docLinkHtml;\n",
              "        element.appendChild(docLink);\n",
              "      }\n",
              "    </script>\n",
              "  </div>\n",
              "\n",
              "\n",
              "<div id=\"df-22c2f713-6713-4ccc-9934-f950d4d8418f\">\n",
              "  <button class=\"colab-df-quickchart\" onclick=\"quickchart('df-22c2f713-6713-4ccc-9934-f950d4d8418f')\"\n",
              "            title=\"Suggest charts.\"\n",
              "            style=\"display:none;\">\n",
              "\n",
              "<svg xmlns=\"http://www.w3.org/2000/svg\" height=\"24px\"viewBox=\"0 0 24 24\"\n",
              "     width=\"24px\">\n",
              "    <g>\n",
              "        <path d=\"M19 3H5c-1.1 0-2 .9-2 2v14c0 1.1.9 2 2 2h14c1.1 0 2-.9 2-2V5c0-1.1-.9-2-2-2zM9 17H7v-7h2v7zm4 0h-2V7h2v10zm4 0h-2v-4h2v4z\"/>\n",
              "    </g>\n",
              "</svg>\n",
              "  </button>\n",
              "\n",
              "<style>\n",
              "  .colab-df-quickchart {\n",
              "    background-color: #E8F0FE;\n",
              "    border: none;\n",
              "    border-radius: 50%;\n",
              "    cursor: pointer;\n",
              "    display: none;\n",
              "    fill: #1967D2;\n",
              "    height: 32px;\n",
              "    padding: 0 0 0 0;\n",
              "    width: 32px;\n",
              "  }\n",
              "\n",
              "  .colab-df-quickchart:hover {\n",
              "    background-color: #E2EBFA;\n",
              "    box-shadow: 0px 1px 2px rgba(60, 64, 67, 0.3), 0px 1px 3px 1px rgba(60, 64, 67, 0.15);\n",
              "    fill: #174EA6;\n",
              "  }\n",
              "\n",
              "  [theme=dark] .colab-df-quickchart {\n",
              "    background-color: #3B4455;\n",
              "    fill: #D2E3FC;\n",
              "  }\n",
              "\n",
              "  [theme=dark] .colab-df-quickchart:hover {\n",
              "    background-color: #434B5C;\n",
              "    box-shadow: 0px 1px 3px 1px rgba(0, 0, 0, 0.15);\n",
              "    filter: drop-shadow(0px 1px 2px rgba(0, 0, 0, 0.3));\n",
              "    fill: #FFFFFF;\n",
              "  }\n",
              "</style>\n",
              "\n",
              "  <script>\n",
              "    async function quickchart(key) {\n",
              "      const charts = await google.colab.kernel.invokeFunction(\n",
              "          'suggestCharts', [key], {});\n",
              "    }\n",
              "    (() => {\n",
              "      let quickchartButtonEl =\n",
              "        document.querySelector('#df-22c2f713-6713-4ccc-9934-f950d4d8418f button');\n",
              "      quickchartButtonEl.style.display =\n",
              "        google.colab.kernel.accessAllowed ? 'block' : 'none';\n",
              "    })();\n",
              "  </script>\n",
              "</div>\n",
              "    </div>\n",
              "  </div>\n"
            ]
          },
          "metadata": {},
          "execution_count": 8
        }
      ]
    },
    {
      "cell_type": "markdown",
      "source": [
        "Comprobamos que el DataFrame no contenga valores nulos."
      ],
      "metadata": {
        "id": "82fHZ9mSvFOo"
      }
    },
    {
      "cell_type": "code",
      "source": [
        "df.isnull().sum()"
      ],
      "metadata": {
        "colab": {
          "base_uri": "https://localhost:8080/"
        },
        "id": "TnuClwZRu_2p",
        "outputId": "95ed6a60-953b-417e-b29e-3c44d4019cab"
      },
      "execution_count": 37,
      "outputs": [
        {
          "output_type": "execute_result",
          "data": {
            "text/plain": [
              "numero_de_bateria      0\n",
              "tiempo_hasta_agotar    0\n",
              "dtype: int64"
            ]
          },
          "metadata": {},
          "execution_count": 37
        }
      ]
    },
    {
      "cell_type": "markdown",
      "source": [
        "### Graficación\n",
        "\n",
        "Creamos un histograma de los datos de los tiempos de vida de las baterías y ajustamos una distribución exponencial y una distribución normal de los datos.\n",
        "\n",
        "De este modo, podemos visualizar un comportamiento normal y uno exponencial comparado con nuestros datos reales,  pudiendo identificar qué comportamiento está teniendo nuestros datos."
      ],
      "metadata": {
        "id": "LNNtzM5VcGZP"
      }
    },
    {
      "cell_type": "code",
      "source": [
        "# Realizamos el histograma de los datos bridados\n",
        "data = df['tiempo_hasta_agotar']\n",
        "plt.hist(data, bins=20, density=True, color='cadetblue', label='Datos reales')\n",
        "\n",
        "# Ajustamos una distribución exponencial\n",
        "param_estimados = stats.expon.fit(data)\n",
        "x = np.linspace(0, max(data), 100)\n",
        "pdf_estimada = stats.expon.pdf(x, *param_estimados)\n",
        "plt.plot(x, pdf_estimada, color='darkorange', label='Distribución exponencial ajustada')\n",
        "\n",
        "# Ajustamos una distribución normal\n",
        "param_estimados_norm = stats.norm.fit(data)\n",
        "pdf_estimada_norm = stats.norm.pdf(x, *param_estimados_norm)\n",
        "plt.plot(x, pdf_estimada_norm, color='red', label='Distribución normal ajustada')\n",
        "\n",
        "plt.xlabel('Tiempo hasta agotar (horas)')\n",
        "plt.ylabel('Densidad de probabilidad')\n",
        "plt.title('Comparación de distribuciones')\n",
        "plt.legend()\n",
        "\n",
        "plt.show()"
      ],
      "metadata": {
        "colab": {
          "base_uri": "https://localhost:8080/",
          "height": 472
        },
        "id": "k2wQShssdIF2",
        "outputId": "d1f58a48-a011-431a-a537-1713075cf85b"
      },
      "execution_count": 33,
      "outputs": [
        {
          "output_type": "display_data",
          "data": {
            "text/plain": [
              "<Figure size 640x480 with 1 Axes>"
            ],
            "image/png": "[encoded data removed]"
          },
          "metadata": {}
        }
      ]
    },
    {
      "cell_type": "markdown",
      "source": [
        "Dado la gráfica anterior, podemos observar que los datos manejados cuentan con un comportamiento exponencial."
      ],
      "metadata": {
        "id": "kIyIWNYylgaI"
      }
    },
    {
      "cell_type": "markdown",
      "source": [
        "### Cálculo de valor esperado poblacional"
      ],
      "metadata": {
        "id": "SGCWeq4glsv2"
      }
    },
    {
      "cell_type": "markdown",
      "source": [
        "Calculamos el valor esperado poblacional (esperanza matemática) de la vida útil de las baterías"
      ],
      "metadata": {
        "id": "5b4IZ7Tfd8Xl"
      }
    },
    {
      "cell_type": "markdown",
      "source": [
        "El valor esperado poblacional de una exponencial está dada por:\n",
        "\n",
        "$\\mathbb{E}[X] = \\frac{1}{\\lambda}$ ; donde $\\lambda = \\frac{1}{\\overline{X}}$\n",
        "\n",
        "Debido a lo anterior, el valor esperado poblacional ($\\mathbb{E}[X]$) de la distribución exponencial coincide con el promedio ($\\overline{X}$) de los datos."
      ],
      "metadata": {
        "id": "NUuyQu5ZgV5G"
      }
    },
    {
      "cell_type": "markdown",
      "source": [
        "A continuación, se muestra el cálculo de el valor esperado poblacional, haciendo uso del método `mean()` de `numpy`."
      ],
      "metadata": {
        "id": "SZDsdZnAikFh"
      }
    },
    {
      "cell_type": "code",
      "source": [
        "valor_esperado_poblacional = np.mean(data)\n",
        "\n",
        "print(\"Valor esperado poblacional:\", valor_esperado_poblacional)"
      ],
      "metadata": {
        "colab": {
          "base_uri": "https://localhost:8080/"
        },
        "id": "ltdXMyJjdQQV",
        "outputId": "0d035047-afc9-44f8-de18-3f072d11d178"
      },
      "execution_count": 16,
      "outputs": [
        {
          "output_type": "stream",
          "name": "stdout",
          "text": [
            "Valor esperado poblacional: 0.32416864932174144\n"
          ]
        }
      ]
    },
    {
      "cell_type": "markdown",
      "source": [
        "## Problema 2\n",
        "\n",
        "Un equipo de soporte técnico está investigando cuántos intentos se requieren en promedio para resolver un problema de software común. Registraron el número de intentos realizados antes de que se resolviera el problema. Podrás encontrar los resultados obtenidos en la base de datos llamada software disponible en canvas. Dada la muestra de datos proporcionada, intuye de forma poblacional ¿cuál es la probabilidad de resolver el problema?"
      ],
      "metadata": {
        "id": "iO9SMTY1e3N3"
      }
    },
    {
      "cell_type": "markdown",
      "source": [
        "Primero, importamos el archivo XLSX correspondiente."
      ],
      "metadata": {
        "id": "AHAmlvpyfHWE"
      }
    },
    {
      "cell_type": "code",
      "source": [
        "df2 = pd.read_excel('software.xlsx')\n",
        "df2.head()"
      ],
      "metadata": {
        "colab": {
          "base_uri": "https://localhost:8080/",
          "height": 206
        },
        "id": "3NmRNw7NfJkV",
        "outputId": "ab1d85fc-76a4-4967-fb15-41bb5e1e0955"
      },
      "execution_count": 19,
      "outputs": [
        {
          "output_type": "execute_result",
          "data": {
            "text/plain": [
              "   problema  intentos_hasta_resolver\n",
              "0         1                        2\n",
              "1         2                        9\n",
              "2         3                        4\n",
              "3         4                        3\n",
              "4         5                        1"
            ],
            "text/html": [
              "\n",
              "  <div id=\"df-8b880309-18a0-4ee6-8b05-8342bcf627f8\" class=\"colab-df-container\">\n",
              "    <div>\n",
              "<style scoped>\n",
              "    .dataframe tbody tr th:only-of-type {\n",
              "        vertical-align: middle;\n",
              "    }\n",
              "\n",
              "    .dataframe tbody tr th {\n",
              "        vertical-align: top;\n",
              "    }\n",
              "\n",
              "    .dataframe thead th {\n",
              "        text-align: right;\n",
              "    }\n",
              "</style>\n",
              "<table border=\"1\" class=\"dataframe\">\n",
              "  <thead>\n",
              "    <tr style=\"text-align: right;\">\n",
              "      <th></th>\n",
              "      <th>problema</th>\n",
              "      <th>intentos_hasta_resolver</th>\n",
              "    </tr>\n",
              "  </thead>\n",
              "  <tbody>\n",
              "    <tr>\n",
              "      <th>0</th>\n",
              "      <td>1</td>\n",
              "      <td>2</td>\n",
              "    </tr>\n",
              "    <tr>\n",
              "      <th>1</th>\n",
              "      <td>2</td>\n",
              "      <td>9</td>\n",
              "    </tr>\n",
              "    <tr>\n",
              "      <th>2</th>\n",
              "      <td>3</td>\n",
              "      <td>4</td>\n",
              "    </tr>\n",
              "    <tr>\n",
              "      <th>3</th>\n",
              "      <td>4</td>\n",
              "      <td>3</td>\n",
              "    </tr>\n",
              "    <tr>\n",
              "      <th>4</th>\n",
              "      <td>5</td>\n",
              "      <td>1</td>\n",
              "    </tr>\n",
              "  </tbody>\n",
              "</table>\n",
              "</div>\n",
              "    <div class=\"colab-df-buttons\">\n",
              "\n",
              "  <div class=\"colab-df-container\">\n",
              "    <button class=\"colab-df-convert\" onclick=\"convertToInteractive('df-8b880309-18a0-4ee6-8b05-8342bcf627f8')\"\n",
              "            title=\"Convert this dataframe to an interactive table.\"\n",
              "            style=\"display:none;\">\n",
              "\n",
              "  <svg xmlns=\"http://www.w3.org/2000/svg\" height=\"24px\" viewBox=\"0 -960 960 960\">\n",
              "    <path d=\"M120-120v-720h720v720H120Zm60-500h600v-160H180v160Zm220 220h160v-160H400v160Zm0 220h160v-160H400v160ZM180-400h160v-160H180v160Zm440 0h160v-160H620v160ZM180-180h160v-160H180v160Zm440 0h160v-160H620v160Z\"/>\n",
              "  </svg>\n",
              "    </button>\n",
              "\n",
              "  <style>\n",
              "    .colab-df-container {\n",
              "      display:flex;\n",
              "      gap: 12px;\n",
              "    }\n",
              "\n",
              "    .colab-df-convert {\n",
              "      background-color: #E8F0FE;\n",
              "      border: none;\n",
              "      border-radius: 50%;\n",
              "      cursor: pointer;\n",
              "      display: none;\n",
              "      fill: #1967D2;\n",
              "      height: 32px;\n",
              "      padding: 0 0 0 0;\n",
              "      width: 32px;\n",
              "    }\n",
              "\n",
              "    .colab-df-convert:hover {\n",
              "      background-color: #E2EBFA;\n",
              "      box-shadow: 0px 1px 2px rgba(60, 64, 67, 0.3), 0px 1px 3px 1px rgba(60, 64, 67, 0.15);\n",
              "      fill: #174EA6;\n",
              "    }\n",
              "\n",
              "    .colab-df-buttons div {\n",
              "      margin-bottom: 4px;\n",
              "    }\n",
              "\n",
              "    [theme=dark] .colab-df-convert {\n",
              "      background-color: #3B4455;\n",
              "      fill: #D2E3FC;\n",
              "    }\n",
              "\n",
              "    [theme=dark] .colab-df-convert:hover {\n",
              "      background-color: #434B5C;\n",
              "      box-shadow: 0px 1px 3px 1px rgba(0, 0, 0, 0.15);\n",
              "      filter: drop-shadow(0px 1px 2px rgba(0, 0, 0, 0.3));\n",
              "      fill: #FFFFFF;\n",
              "    }\n",
              "  </style>\n",
              "\n",
              "    <script>\n",
              "      const buttonEl =\n",
              "        document.querySelector('#df-8b880309-18a0-4ee6-8b05-8342bcf627f8 button.colab-df-convert');\n",
              "      buttonEl.style.display =\n",
              "        google.colab.kernel.accessAllowed ? 'block' : 'none';\n",
              "\n",
              "      async function convertToInteractive(key) {\n",
              "        const element = document.querySelector('#df-8b880309-18a0-4ee6-8b05-8342bcf627f8');\n",
              "        const dataTable =\n",
              "          await google.colab.kernel.invokeFunction('convertToInteractive',\n",
              "                                                    [key], {});\n",
              "        if (!dataTable) return;\n",
              "\n",
              "        const docLinkHtml = 'Like what you see? Visit the ' +\n",
              "          '<a target=\"_blank\" href=https://colab.research.google.com/notebooks/data_table.ipynb>data table notebook</a>'\n",
              "          + ' to learn more about interactive tables.';\n",
              "        element.innerHTML = '';\n",
              "        dataTable['output_type'] = 'display_data';\n",
              "        await google.colab.output.renderOutput(dataTable, element);\n",
              "        const docLink = document.createElement('div');\n",
              "        docLink.innerHTML = docLinkHtml;\n",
              "        element.appendChild(docLink);\n",
              "      }\n",
              "    </script>\n",
              "  </div>\n",
              "\n",
              "\n",
              "<div id=\"df-d8403f68-6864-4a81-b9ed-2f6e83774e79\">\n",
              "  <button class=\"colab-df-quickchart\" onclick=\"quickchart('df-d8403f68-6864-4a81-b9ed-2f6e83774e79')\"\n",
              "            title=\"Suggest charts.\"\n",
              "            style=\"display:none;\">\n",
              "\n",
              "<svg xmlns=\"http://www.w3.org/2000/svg\" height=\"24px\"viewBox=\"0 0 24 24\"\n",
              "     width=\"24px\">\n",
              "    <g>\n",
              "        <path d=\"M19 3H5c-1.1 0-2 .9-2 2v14c0 1.1.9 2 2 2h14c1.1 0 2-.9 2-2V5c0-1.1-.9-2-2-2zM9 17H7v-7h2v7zm4 0h-2V7h2v10zm4 0h-2v-4h2v4z\"/>\n",
              "    </g>\n",
              "</svg>\n",
              "  </button>\n",
              "\n",
              "<style>\n",
              "  .colab-df-quickchart {\n",
              "    background-color: #E8F0FE;\n",
              "    border: none;\n",
              "    border-radius: 50%;\n",
              "    cursor: pointer;\n",
              "    display: none;\n",
              "    fill: #1967D2;\n",
              "    height: 32px;\n",
              "    padding: 0 0 0 0;\n",
              "    width: 32px;\n",
              "  }\n",
              "\n",
              "  .colab-df-quickchart:hover {\n",
              "    background-color: #E2EBFA;\n",
              "    box-shadow: 0px 1px 2px rgba(60, 64, 67, 0.3), 0px 1px 3px 1px rgba(60, 64, 67, 0.15);\n",
              "    fill: #174EA6;\n",
              "  }\n",
              "\n",
              "  [theme=dark] .colab-df-quickchart {\n",
              "    background-color: #3B4455;\n",
              "    fill: #D2E3FC;\n",
              "  }\n",
              "\n",
              "  [theme=dark] .colab-df-quickchart:hover {\n",
              "    background-color: #434B5C;\n",
              "    box-shadow: 0px 1px 3px 1px rgba(0, 0, 0, 0.15);\n",
              "    filter: drop-shadow(0px 1px 2px rgba(0, 0, 0, 0.3));\n",
              "    fill: #FFFFFF;\n",
              "  }\n",
              "</style>\n",
              "\n",
              "  <script>\n",
              "    async function quickchart(key) {\n",
              "      const charts = await google.colab.kernel.invokeFunction(\n",
              "          'suggestCharts', [key], {});\n",
              "    }\n",
              "    (() => {\n",
              "      let quickchartButtonEl =\n",
              "        document.querySelector('#df-d8403f68-6864-4a81-b9ed-2f6e83774e79 button');\n",
              "      quickchartButtonEl.style.display =\n",
              "        google.colab.kernel.accessAllowed ? 'block' : 'none';\n",
              "    })();\n",
              "  </script>\n",
              "</div>\n",
              "    </div>\n",
              "  </div>\n"
            ]
          },
          "metadata": {},
          "execution_count": 19
        }
      ]
    },
    {
      "cell_type": "markdown",
      "source": [
        "Comprobamos que el DataFrame no contenga valores nulos."
      ],
      "metadata": {
        "id": "OZo7IGcyuymq"
      }
    },
    {
      "cell_type": "code",
      "source": [
        "df2.isnull().sum()"
      ],
      "metadata": {
        "colab": {
          "base_uri": "https://localhost:8080/"
        },
        "id": "b-n0AY_1u3fd",
        "outputId": "92b71faf-9542-4d3b-d42c-a994ca56a6c8"
      },
      "execution_count": 36,
      "outputs": [
        {
          "output_type": "execute_result",
          "data": {
            "text/plain": [
              "problema                   0\n",
              "intentos_hasta_resolver    0\n",
              "dtype: int64"
            ]
          },
          "metadata": {},
          "execution_count": 36
        }
      ]
    },
    {
      "cell_type": "markdown",
      "source": [
        "### Solución"
      ],
      "metadata": {
        "id": "vM6Uca_XqgpL"
      }
    },
    {
      "cell_type": "markdown",
      "source": [
        "Debido a la naturaleza del problema, tenemos un caso en el que recibimos el número de ensayos de Bernoulli (fracasos o intentos de resolver el problema) hasta obtener un éxito. De esta manera, sabemos que el problema trata de una distribución geométrica."
      ],
      "metadata": {
        "id": "eWmhzV2Dqcm3"
      }
    },
    {
      "cell_type": "markdown",
      "source": [
        "Sabiendo que estamos manejando una distribución geométrica, los parámetros están dados por:\n",
        "\n",
        "$\\hat{p} = \\frac{n}{\\sum^n_{i = 1}x_i}$ , donde $n$ es la cantidad total de datos (tamaño de la muestra) y $x_i$ es el valor de cada dato."
      ],
      "metadata": {
        "id": "O-APUErFq8et"
      }
    },
    {
      "cell_type": "markdown",
      "source": [
        "Dicho lo anterior, hacemos los cálculos correspondientes."
      ],
      "metadata": {
        "id": "DvxFllcXsrGp"
      }
    },
    {
      "cell_type": "code",
      "source": [
        "# Aislamos la columna de 'intentos_hasta_resolver'\n",
        "intentos = df2['intentos_hasta_resolver']\n",
        "\n",
        "# Aplicamos la fórmula anterior para obtener la probabilidad\n",
        "prob = len(intentos)/intentos.sum()\n",
        "\n",
        "# Mostramos el resultado\n",
        "print(\"La probabilidad de resolver el problema es: \", prob)"
      ],
      "metadata": {
        "colab": {
          "base_uri": "https://localhost:8080/"
        },
        "id": "wQyEXbetrPAt",
        "outputId": "4cda4513-be91-43f6-b7c9-b43e0882420b"
      },
      "execution_count": 35,
      "outputs": [
        {
          "output_type": "stream",
          "name": "stdout",
          "text": [
            "La probabilidad de resolver el problema es:  0.29779630732578916\n"
          ]
        }
      ]
    },
    {
      "cell_type": "markdown",
      "source": [
        "---\n",
        "\n",
        "Alfonso Pineda Cedillo | A01660394"
      ],
      "metadata": {
        "id": "cCpXv1DnuIFZ"
      }
    }
  ]
}